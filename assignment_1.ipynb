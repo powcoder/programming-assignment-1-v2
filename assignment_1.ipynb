{
 "cells": [
  {
   "cell_type": "code",
   "execution_count": null,
   "metadata": {
    "tags": [
     "magic"
    ]
   },
   "outputs": [],
   "source": [
    "%matplotlib inline"
   ]
  },
  {
   "cell_type": "code",
   "execution_count": null,
   "metadata": {},
   "outputs": [],
   "source": [
    "import numpy as np\n",
    "import scipy as sp\n",
    "import matplotlib.pyplot as plt\n",
    "import pandas as pd\n",
    "from scipy.stats import multivariate_normal"
   ]
  },
  {
   "cell_type": "markdown",
   "metadata": {},
   "source": [
    "## Assignment and notebook notes\n",
    " - Do **NOT** change function names where you are told to fill in.\n",
    " - Do **NOT** change the name of this notebook.\n",
    " - Before submission make sure to run the entire notebook again an ensures everything works **without** error.\n",
    " - **TODO**: List all files you want to submit for grading below in the Python path variable.\n",
    " - **TODO**: **Also**, specify your u-id below:"
   ]
  },
  {
   "cell_type": "code",
   "execution_count": null,
   "metadata": {},
   "outputs": [],
   "source": [
    "SUBMISSION_LIST = [\n",
    "    'assignment_1.ipynb',  # Make sure to include this!\n",
    "]\n",
    "\n",
    "assert('assignment_1.ipynb' in SUBMISSION_LIST)\n",
    "\n",
    "U_ID = None  # You need to specify\n",
    "\n",
    "# Check length and typing of U_ID\n",
    "assert(len(U_ID) == 8)\n",
    "assert(type(U_ID) == str)"
   ]
  },
  {
   "cell_type": "markdown",
   "metadata": {},
   "source": [
    "# Section 1: Bayesian Linear Regression\n",
    "\n",
    "In this question we will implement Bayesian Linear Regression. We will start off with implementing and visualising a simple case, and then progressively add more complexity. We will also recreate the visualisations in the textbook/slides (Bishop, Figure 3.7 Page 155)."
   ]
  },
  {
   "cell_type": "markdown",
   "metadata": {},
   "source": [
    "## BLR - Simple Line Fitting"
   ]
  },
  {
   "cell_type": "markdown",
   "metadata": {},
   "source": [
    "We first consider the regression of a simple straight-line fitting example example: a single input variable $x\\in\\mathbb{R}$, a single target variable $t\\in\\mathbb{R}$ and the model \n",
    "$$y(x,\\mathbf{w})=w_0+w_1x.$$\n",
    "\n",
    "Thus the parameters of the model are summarised by the vector $\\mathbf{w}=[w_0, w_1]$. An easier way to think about this model is to map the data points $x$ into a higher dimensional feature space (i.e. to vectors $\\boldsymbol{\\phi}(x)\\in\\mathbb{R}^{d}$) and have the model as a linear combination of those features. The above model corresponds to having two simple basis functions\n",
    "$$\\boldsymbol{\\phi}(x)=[\\phi_0(x),\\phi_1(x)]=[1,x]$$\n",
    "so that \n",
    "$$y(x,\\mathbf{w})=\\mathbf{w}^T\\boldsymbol{\\phi}(x)=w_0+w_1x.$$\n",
    "\n",
    "In Bayesian Linear Regression, we first have a prior over parameters, and as we see data we will update the likelihood of the data to get a posterior distribution over the parameters. Let us start with a Gaussian Prior over the parameters \n",
    "$$p(\\mathbf{w})=\\mathcal{N}(\\mathbf{w} \\mid \\mathbf{m}_0, \\mathbf{S}_0).$$\n",
    "\n",
    "Then from lectures we know that the posterior update is given by \n",
    "$$\n",
    "\\begin{align}\n",
    "\\mathbf{m}_N &= \\mathbf{S}_N(\\mathbf{S}_0^{-1}\\mathbf{m}_0+\\beta\\mathbf{\\Phi}^T\\mathbf{t})\\\\\n",
    "\\mathbf{S}_N^{-1} &= \\mathbf{S}_0^{-1}+\\beta\\mathbf{\\Phi}^T\\mathbf{\\Phi}\n",
    "\\end{align}\n",
    "$$"
   ]
  },
  {
   "cell_type": "markdown",
   "metadata": {},
   "source": [
    "### Question 1.1 [10 Marks]\n",
    "Derive this from the identitites given in the slides (see Slides 02b slides 9 and 10: Week 2 Linear Regression 2)."
   ]
  },
  {
   "cell_type": "markdown",
   "metadata": {},
   "source": [
    "### Write Solution Here\n"
   ]
  },
  {
   "cell_type": "markdown",
   "metadata": {},
   "source": [
    "The following code sets up the data for the problem and plots it. You do **not** need to edit the following two Python cells. They are strictly for visualisation. "
   ]
  },
  {
   "cell_type": "code",
   "execution_count": null,
   "metadata": {},
   "outputs": [],
   "source": [
    "## Supporting Cell Do NOT change\n",
    "\n",
    "np.random.seed(0)\n",
    "# Set Up Data for the Straight Line problem\n",
    "true_w = np.array([-0.3, 0.5]) # (2,)\n",
    "true_function = lambda x: true_w[0] + true_w[1]*x\n",
    "line_x = np.linspace(-1,1,100) # (100,)\n",
    "line_y = true_function(line_x) # (100,)\n",
    "num_points = 30 # We will refer to this as n\n",
    "noise_sigma = 0.2\n",
    "beta = 1 / (noise_sigma**2)\n",
    "data_x = np.random.rand(num_points)*2 -1 # (n,)\n",
    "data_y = true_function(data_x) + np.random.randn(num_points)*noise_sigma # (n,)"
   ]
  },
  {
   "cell_type": "code",
   "execution_count": null,
   "metadata": {},
   "outputs": [],
   "source": [
    "## Supporting Cell Do NOT change\n",
    "\n",
    "def plot_function(ax, line_x, line_y, data_x, data_y, pred_y=None, std_dev=None):\n",
    "    ax.plot(line_x, line_y, c='r', label='True Function')\n",
    "    ax.scatter(data_x, data_y, label='Data')\n",
    "    if pred_y is not None:\n",
    "        ax.plot(line_x, pred_y.reshape(-1), label='Prediction')\n",
    "        if std_dev is not None:\n",
    "            upper_line = pred_y.reshape(-1) + std_dev.reshape(-1)\n",
    "            lower_line = pred_y.reshape(-1) - std_dev.reshape(-1)\n",
    "            ax.fill_between(line_x, lower_line, upper_line, alpha=0.4, color='r')\n",
    "    ax.legend()\n",
    "fig, ax = plt.subplots()\n",
    "plot_function(ax, line_x, line_y, data_x, data_y)\n",
    "plt.show()"
   ]
  },
  {
   "cell_type": "markdown",
   "metadata": {},
   "source": [
    "We can now set up our model: define our prior and our design matrix. Our prior is just a Gaussian, let us use mean $\\mathbf{0}$ and covariance $\\alpha I$ for some hyperparameter $\\alpha$. As our model is $y=w_0+w_1x$, our design matrix is $\\boldsymbol{\\Phi}=[\\mathbf{1}, \\mathbf{x}]\\in\\mathbf{R}^{n\\times 2}$ where $\\mathbf{1}, \\mathbf{x}\\in\\mathbf{R}^{n}$. \n",
    "\n",
    "We can then matrix multiply to compute our model for each datapoint: $\\mathbf{y}=\\boldsymbol{\\Phi}\\mathbf{w}$ where $\\mathbf{w}\\in\\mathbb{R}^{2\\times 1}$ so that $\\mathbf{y}\\in\\mathbb{R}^{n\\times 1}$. Note that we have changed $\\mathbf{w}$ from $\\mathbb{R}^{2}$ to $\\mathbb{R}^{2\\times 1}$ for convenience in the matrix multiplication, we often skip details like that in the maths but staying consistent matters in the code."
   ]
  },
  {
   "cell_type": "code",
   "execution_count": null,
   "metadata": {},
   "outputs": [],
   "source": [
    "## Supporting Cell Do NOT change\n",
    "\n",
    "num_features = 2 # We will refer to this as d\n",
    "initial_w_mean = np.array([0,0]).reshape(2,1) # (d,1)\n",
    "initial_w_cov = 0.01*np.eye(2) # (d,d)\n",
    "\n",
    "def make_phi(data):\n",
    "    # Takes 1-D data and maps it into d dimensional features\n",
    "    data_vec = data.reshape(-1) # (n,)\n",
    "    return np.stack([np.ones_like(data_vec), data_vec], axis=0).T # (n,d)\n",
    "features = make_phi(data_x) # (n,d)\n",
    "targets = data_y.reshape(-1,1) # (n,1)"
   ]
  },
  {
   "cell_type": "markdown",
   "metadata": {},
   "source": [
    "### Question 1.2 [15 Marks]\n",
    "Implement Equation 3.50 and 3.51 to get the posterior given data points. A quick reminder, posterior update is given by\n",
    "$$\n",
    "\\begin{align}\n",
    "\\mathbf{m}_N &= \\mathbf{S}_N(\\mathbf{S}_0^{-1}\\mathbf{m}_0+\\beta\\mathbf{\\Phi}^T\\mathbf{t}) \\tag{3.50}\\\\\n",
    "\\mathbf{S}_N^{-1} &= \\mathbf{S}_0^{-1}+\\beta\\mathbf{\\Phi}^T\\mathbf{\\Phi} \\tag{3.51}\n",
    "\\end{align}\n",
    "$$"
   ]
  },
  {
   "cell_type": "code",
   "execution_count": null,
   "metadata": {},
   "outputs": [],
   "source": [
    "def update_w_mean_and_cov(old_w_mean, old_w_cov, features, targets, beta):\n",
    "    # TODO: Implement Equation 3.50 and 3.51 to get the posterior given features and targets\n",
    "    w_mean = None # TODO\n",
    "    w_cov = None # TODO\n",
    "    return w_mean, w_cov # (d,1), (d,d)"
   ]
  },
  {
   "cell_type": "markdown",
   "metadata": {},
   "source": [
    "Now we can visualise the affect of running updating the covariance for certain data points. We also plot the updated posterior."
   ]
  },
  {
   "cell_type": "code",
   "execution_count": null,
   "metadata": {},
   "outputs": [],
   "source": [
    "## Supporting Cell Do NOT change\n",
    "\n",
    "def plot_gaussian(ax, mean, cov):\n",
    "    x, y = np.mgrid[-1:2:0.1, -1:2:.01]\n",
    "    pos = np.dstack((x, y))\n",
    "    rv = multivariate_normal(mean.reshape(-1), cov)\n",
    "    ax.contourf(x, y, rv.pdf(pos))\n",
    "    ax.set_xlabel('$w_0$'); ax.set_ylabel('$w_1$')\n",
    "    ax.scatter(true_w[0], true_w[1], c='r', label='True $\\mathbf{w}$')\n",
    "    ax.legend()\n",
    "\n",
    "def run_simple_blr_model(initial_w_mean, initial_w_cov, line_x, line_y, data_x, data_y, features, targets, beta):\n",
    "    if initial_w_mean is None or initial_w_cov is None:\n",
    "        print(\"value for mean or cov is None\")\n",
    "        return\n",
    "    fig, ax = plt.subplots()\n",
    "    plot_gaussian(ax, initial_w_mean, initial_w_cov)\n",
    "    plt.title('Prior over $\\mathbf{w}$')\n",
    "    plt.show()\n",
    "    subsets = [1, 2, 10, 30]\n",
    "    fig, axs = plt.subplots(len(subsets), 2, figsize=(14,len(subsets)*5))\n",
    "    for i, num in enumerate(subsets):\n",
    "        new_w_mean, new_w_cov = update_w_mean_and_cov(initial_w_mean, initial_w_cov, features[:num], targets[:num], beta)\n",
    "        if new_w_mean is None or new_w_cov is None:\n",
    "            print(\"update_w_mean_and_cov has not been implemented\")\n",
    "            return\n",
    "        pred_y = make_phi(line_x) @ new_w_mean\n",
    "        plot_function(axs[i,0], line_x, line_y, data_x[:num], data_y[:num], pred_y=pred_y)\n",
    "        axs[i,0].set_title('Updated prediction after {} data points'.format(num))\n",
    "        plot_gaussian(axs[i,1],new_w_mean, new_w_cov)\n",
    "        axs[i,1].set_title('Posterior over $\\mathbf{{w}}$ after {} data points'.format(num))\n",
    "run_simple_blr_model(initial_w_mean, initial_w_cov, line_x, line_y, data_x, data_y, features, targets, beta)"
   ]
  },
  {
   "cell_type": "markdown",
   "metadata": {},
   "source": [
    "### Question 1.3 [5 Marks]\n",
    "It doesn't seem to be learning a good line of best fit. The problem is that the prior is too biased, and there is not enough data to remove such bias. Try changing the values of the prior to something reasonable, and try running the code again. If you are confused have a look at Figure 3.7 in the textbook and see what is different. **Explain why your choices for the values of the prior makes sense.**"
   ]
  },
  {
   "cell_type": "code",
   "execution_count": null,
   "metadata": {},
   "outputs": [],
   "source": [
    "initial_mean = None # TODO: Set this value, (d, 1)\n",
    "initial_cov = None # TODO: Set this value, (d,d)\n",
    "run_simple_blr_model(initial_mean, initial_cov, line_x, line_y, data_x, data_y, features, targets, beta)"
   ]
  },
  {
   "cell_type": "markdown",
   "metadata": {},
   "source": [
    "#### Explain why you chose this value here"
   ]
  },
  {
   "cell_type": "markdown",
   "metadata": {},
   "source": [
    "## Non-linear Fitting + Predictive Distribution\n",
    "We will now consider a slightly more difficult example: with data generated from a sine wave."
   ]
  },
  {
   "cell_type": "code",
   "execution_count": null,
   "metadata": {},
   "outputs": [],
   "source": [
    "## Supporting Cell Do NOT change\n",
    "\n",
    "# Setup data / parameters\n",
    "np.random.seed(1)\n",
    "true_function = lambda x: np.sin(x*2*np.pi)\n",
    "line_x = np.linspace(0,1,100) # (100,)\n",
    "line_y = true_function(line_x) # (100,)\n",
    "num_points = 25 # n\n",
    "noise_sigma = 0.2\n",
    "beta = 1 / (noise_sigma**2)\n",
    "data_x = np.random.rand(num_points) # (n,)\n",
    "data_y = true_function(data_x) + np.random.randn(num_points)*noise_sigma # (n,)"
   ]
  },
  {
   "cell_type": "code",
   "execution_count": null,
   "metadata": {},
   "outputs": [],
   "source": [
    "## Supporting Cell Do NOT change\n",
    "\n",
    "fig, ax = plt.subplots()\n",
    "plot_function(ax, line_x, line_y, data_x, data_y)\n",
    "plt.show()"
   ]
  },
  {
   "cell_type": "markdown",
   "metadata": {},
   "source": [
    "### Question 1.4 [5 Marks]\n",
    "\n",
    "When our data is non-linear we need to use non-linear basis functions within our linear regression model to model it. \n",
    "\n",
    "We can see that our data is bounded, it goes up and down but its distance doesn't keep increasing away from 0. A good set of basis functions would be to use Gaussian basis functions of the form\n",
    "$$\n",
    "\\begin{align}\n",
    "    \\phi(x;\\mu_j,s) &= \\exp\\left\\{-\\frac{(x-\\mu_j)^2}{2s^2}\\right\\}, \\tag{3.4}\n",
    "\\end{align}\n",
    "$$\n",
    "(note the Textbook uses such basis functions to make Figure 3.8).\n",
    "\n",
    "In particular, let us use the following basis function mapping:\n",
    "$$\n",
    "\\begin{align}\n",
    "    \\boldsymbol\\Phi\\left(x\\right) &= \\left[1,\\phi\\left(x;0,0.1\\right),\\phi\\left(x;\\frac{1}{8},0.1\\right),\\phi\\left(x;\\frac{2}{8},0.1\\right),\\phi\\left(x;\\frac{3}{8},0.1\\right),\\phi\\left(x;\\frac{4}{8},0.1\\right),\\phi\\left(x;\\frac{5}{8},0.1\\right),\\phi\\left(x;\\frac{6}{8},0.1\\right),\\phi\\left(x;\\frac{7}{8},0.1\\right),\\phi\\left(x;1,0.1\\right)\\right]\n",
    "\\end{align}\n",
    "$$\n",
    "\n",
    "Also redo the previous setup for Bayesian Linear Regresion with the following parameters:\n",
    "$$\n",
    "\\begin{align}\n",
    "    \\mathbf{m}_0 &=0\\in\\mathbb{R}^{10\\times 1}\\\\\n",
    "    S_N &= I_{10}\\in\\mathbb{R}^{10\\times 10}\n",
    "\\end{align}\n",
    "$$"
   ]
  },
  {
   "cell_type": "code",
   "execution_count": null,
   "metadata": {},
   "outputs": [],
   "source": [
    "# Define our initial BLR parameters\n",
    "num_features = 10 # d\n",
    "\n",
    "def initial_params_exp():\n",
    "    # TODO\n",
    "    initial_w_mean = None # TODO , (d,1)\n",
    "    initial_w_cov = None # TODO , (d,d)\n",
    "    \n",
    "    return initial_w_mean, initial_w_cov\n",
    "\n",
    "initial_w_mean, initial_w_cov = initial_params_exp()\n",
    "\n",
    "def make_phi_exp(points):\n",
    "    # TODO\n",
    "    basis_points = None\n",
    "    return basis_points\n",
    "    \n",
    "features = make_phi_exp(data_x) # (n,d)\n",
    "targets = data_y.reshape(-1,1) # (n,1)\n",
    "\n",
    "assert(features is not None)\n",
    "assert(initial_w_mean is not None)\n",
    "assert(initial_w_cov is not None)"
   ]
  },
  {
   "cell_type": "markdown",
   "metadata": {},
   "source": [
    "### Question 1.5 [5 Marks]\n",
    "\n",
    "Often we don't care about the value or uncertainty of $\\mathbf{w}$, but the value and the uncertainty that results for predictions $t$ for new values of $x$. The predictive distribution of the target value $t$ for our Gaussian Model is a Gaussian specified by\n",
    "\n",
    "\\begin{align*}\n",
    "p(t \\mid x, \\mathbf{t},\\alpha,\\beta) &= \\mathcal{N}\\left(t\\mid \\mathbf{m}_N^T\\boldsymbol{\\phi}(x),\\sigma^2_N(x)\\right) \\tag{3.58}\\\\\n",
    "\\sigma^2_N(x) &= \\frac{1}{\\beta} + \\boldsymbol{\\phi}(x)^TS_N\\boldsymbol{\\phi}(x) \\tag{3.59}\n",
    "\\end{align*}\n",
    "\n",
    "Then in the next cell, implement the predictive distribution equations."
   ]
  },
  {
   "cell_type": "code",
   "execution_count": null,
   "metadata": {},
   "outputs": [],
   "source": [
    "def predictive_dist(features, w_mean, w_cov, beta):\n",
    "    # features (n,d), w_mean (d,1), w_cov (d,d)\n",
    "    pred_y_mean = None # TODO\n",
    "    pred_y_sigma = None # TODO\n",
    "    return pred_y_mean, pred_y_sigma # (n,1), (n,n)"
   ]
  },
  {
   "cell_type": "code",
   "execution_count": null,
   "metadata": {},
   "outputs": [],
   "source": [
    "## Supporting Cell Do NOT change\n",
    "\n",
    "def run_simple_blr_model(initial_mean, initial_cov, line_x, line_y, data_x, data_y, features, targets, beta):\n",
    "    if initial_mean is None or initial_cov is None:\n",
    "        print(\"value for mean or cov is None\")\n",
    "        return\n",
    "    subsets = [1, 2, 10, 25]\n",
    "    fig, axs = plt.subplots(len(subsets), 1, figsize=(6,len(subsets)*5))\n",
    "    for i, num in enumerate(subsets):\n",
    "        new_w_mean, new_w_cov = update_w_mean_and_cov(initial_w_mean, initial_w_cov, features[:num], targets[:num], beta)\n",
    "        line_features = make_phi_exp(line_x) # (100,d)\n",
    "        pred_y_mean, pred_y_cov = predictive_dist(line_features, new_w_mean, new_w_cov, beta) # (100,d), (100,100)\n",
    "        if pred_y_mean is None or pred_y_cov is None:\n",
    "            print(\"Predictive Distribution has not been implemented\")\n",
    "            return\n",
    "        pred_y = (make_phi_exp(line_x) @ new_w_mean).reshape(-1) # (100,)\n",
    "        std_dev = np.sqrt(np.diag(pred_y_cov)).reshape(-1) # (100,)\n",
    "        plot_function(axs[i], line_x, line_y, data_x[:num], data_y[:num], pred_y, std_dev)\n",
    "        axs[i].set_ylim(-2,2); axs[i].set_xlim(0,1)\n",
    "        axs[i].set_title('Updated prediction after {} data points'.format(num))\n",
    "    plt.show()\n",
    "run_simple_blr_model(initial_mean, initial_cov, line_x, line_y, data_x, data_y, features, targets, beta)"
   ]
  },
  {
   "cell_type": "markdown",
   "metadata": {},
   "source": [
    "## Real World Data\n",
    "\n",
    "We now will apply Bayesian Linear Regression to a real world dataset. This dataset is the [Auto MPG Dataset](https://archive.ics.uci.edu/ml/datasets/Auto+MPG) from the [UCI ML Repository](https://archive.ics.uci.edu/ml/index.php). The dataset has been slightly preprocessed/filtered. The aim of the task is to predict the city-cycle fuel consumption in miles per gallon (mpg) from 8 variables (all are numerical, and will be treated as continuous for this task). A description of each variable can be found in the dataset link.\n",
    "\n",
    "To properly test our model, we will split the 392 instances into a train set (of $n=294$ instances) that we will fit our model on, and a test set (of $n'=98$ instances) that we will report the relative error on.\n",
    "\n",
    "As this is not synthetic data, we don't know what the noise in the measurements of the target variable are. Thus we will estimate it."
   ]
  },
  {
   "cell_type": "code",
   "execution_count": null,
   "metadata": {},
   "outputs": [],
   "source": [
    "## Supporting Cell Do NOT change\n",
    "\n",
    "# Get the data\n",
    "df = pd.read_csv('auto-mpg_cleaned.csv')\n",
    "names = df.columns; print(\"Variables are {}, we are regressing mpg given the rest.\".format(list(names)))\n",
    "target_df = df['mpg']\n",
    "data_df = df[['cylinders', 'displacement', 'horsepower', 'weight',\n",
    "       'acceleration', 'model year', 'origin']]\n",
    "# Decide train-test splits\n",
    "np.random.seed(0)\n",
    "random_perm = np.random.permutation(len(data_df))\n",
    "train_indices = random_perm[:int(len(data_df)*0.75)]\n",
    "test_indices = random_perm[int(len(data_df)*0.75):]\n",
    "\n",
    "# Set up train and test set\n",
    "train_data = data_df.iloc[train_indices].values # (n,7)\n",
    "test_data = data_df.iloc[test_indices].values # (n',7)\n",
    "train_targets = target_df.iloc[train_indices].values.reshape(-1,1) # (n,1)\n",
    "test_targets = target_df.iloc[test_indices].values.reshape(-1,1) # (n',1)\n",
    "\n",
    "# Estimate the noise in the targets\n",
    "noise_sigma = 1\n",
    "beta = 1 / (noise_sigma**2)"
   ]
  },
  {
   "cell_type": "markdown",
   "metadata": {},
   "source": [
    "### Question 1.6 [10 Marks]\n",
    "\n",
    "As before, make an initial mean and covariance that makes sense, as well as a feature matrix $\\boldsymbol{\\Phi}$. Then run the following code to see the performance on the train and test set, and the visualisations of the predictions on the test set. The given features have a test relative error of about 11.5%, you should be able to reduce it below 10 (and try to reduce it even further)."
   ]
  },
  {
   "cell_type": "code",
   "execution_count": null,
   "metadata": {},
   "outputs": [],
   "source": [
    "num_features = 8 # TODO: Change as required, d\n",
    "initial_w_mean = np.zeros((num_features,1)) # TODO: Change as required, (d,1)\n",
    "initial_w_cov = 100*np.eye(num_features) # TODO: Change as required, (d,d)\n",
    "\n",
    "def make_phi_realworld(data):\n",
    "    # TODO: Make sensible basis functions that do not have any parameters of its own. We have given a very simple\n",
    "    # one, improve upon this\n",
    "    return np.concatenate([np.ones(len(data)).reshape(-1,1), data], axis=1) # TODO: Improve this, (n,d=8), gets around 11.5 rel error\n",
    "\n",
    "train_features = make_phi_realworld(train_data) # (n,d)\n",
    "test_features = make_phi_realworld(test_data) # (n',d)"
   ]
  },
  {
   "cell_type": "code",
   "execution_count": null,
   "metadata": {},
   "outputs": [],
   "source": [
    "## Supporting Cell Do NOT change\n",
    "\n",
    "def plot_predictions_bar(pred_y, targets, std_dev):\n",
    "    upper_line = pred_y + std_dev; lower_line = pred_y - std_dev\n",
    "    plt.bar(range(len(pred_y)), pred_y, label='pred_y', color='r')\n",
    "    plt.bar(range(len(pred_y)), targets, label='targets', color='b', alpha=0.7)\n",
    "    plt.errorbar(range(len(pred_y)), pred_y, yerr=np.stack([pred_y-lower_line, upper_line-pred_y], axis=0), capsize=5, ls = 'none', color='r')\n",
    "    plt.legend()\n",
    "\n",
    "def relative_error(targets, pred_y):\n",
    "    return (np.abs(targets-pred_y)/targets).mean()*100\n",
    "\n",
    "def plot_regression(initial_w_mean, initial_w_cov, line_x, line_y, data_x, data_y, train_features, train_targets, test_features, test_targets, beta):\n",
    "    # Learn best distribution over the parameter space\n",
    "    new_w_mean, new_w_cov = update_w_mean_and_cov(initial_w_mean, initial_w_cov, train_features, train_targets, beta)\n",
    "\n",
    "    # Get the distribution over targets for the training data\n",
    "    train_pred_mean, train_pred_cov = predictive_dist(train_features, new_w_mean, new_w_cov, beta)\n",
    "    train_pred = train_pred_mean.reshape(-1)\n",
    "    train_pred_std_dev = np.sqrt(np.diag(train_pred_cov)).reshape(-1)\n",
    "\n",
    "    print('Train Relative Error', relative_error(train_targets.reshape(-1), train_pred))\n",
    "    # Uncomment the following lines if you want to visualise the train set predictions\n",
    "    # plt.figure(figsize=(15,8))\n",
    "    # plt.title(\"Train Predictions\")\n",
    "    # plt.ylabel('mpg')\n",
    "    # plot_predictions_bar(train_pred, train_targets.reshape(-1), train_pred_std_dev)\n",
    "    # plt.show()\n",
    "    # print()\n",
    "\n",
    "    # Get the distribution over targets for the test data\n",
    "    test_pred_mean, test_pred_sigma = predictive_dist(test_features, new_w_mean, new_w_cov, beta)\n",
    "    test_pred = test_pred_mean.reshape(-1)\n",
    "    test_pred_std_dev = np.sqrt(np.diag(test_pred_sigma)).reshape(-1)\n",
    "\n",
    "    print('Test Relative Error', relative_error(test_targets.reshape(-1), test_pred))\n",
    "    plt.figure(figsize=(15,8))\n",
    "    plt.title(\"Test Predictions\")\n",
    "    plt.ylabel('mpg')\n",
    "    plot_predictions_bar(test_pred, test_targets.reshape(-1), test_pred_std_dev)\n",
    "    plt.show()\n",
    "    print()\n",
    "plot_regression(initial_w_mean, initial_w_cov, line_x, line_y, data_x, data_y, train_features, train_targets, test_features, test_targets, beta)"
   ]
  },
  {
   "cell_type": "markdown",
   "metadata": {},
   "source": [
    "# Section 2: Shallow Neural Network Representation Power\n",
    "\n",
    "In the first few weeks of SML we have extensively discussed the representative limitations of linear models, and many way to improve it. The following questions are intended to give you some familiarity with the representation power of shallow Neural Networks. In particular, we start by reason through a small neural network that aims to learn the XOR pattern."
   ]
  },
  {
   "cell_type": "markdown",
   "metadata": {},
   "source": [
    "## XOR with Logistic Regression"
   ]
  },
  {
   "cell_type": "markdown",
   "metadata": {},
   "source": [
    "Consider a classifier given by\n",
    "$$\n",
    "\\begin{align}\n",
    "y([x_1,x_2]) &= \\sigma\\left([w_1,w_2,w_3]^T[x_1,x_2,1]\\right)\\\\\n",
    "        &= \\sigma\\left(w_1x_1+w_2x_2+w_3\\right).\n",
    "\\end{align}\n",
    "$$\n",
    "\n",
    "We want to have the XOR relationship\n",
    "$$\n",
    "\\begin{array}{ll|l|l}\n",
    " x_1 & x_2 & y(x_1,x_2) \\\\ \\hline\n",
    " -1    & -1    & 1            \\\\\n",
    " -1    & 1     & 0            \\\\\n",
    " 1     & -1    & 0           \\\\\n",
    " 1     & 1    & 1           \\\\\n",
    "\\end{array}\n",
    "$$\n",
    "\n",
    "We will consider the weights $[w_1,w_2,w_3]$ that solve the XOR problem if threshold at 0.5 gives the results in the above table (i.e. $y(x_1,x_2)<0.5\\implies y=0$ and $y(x_1,x_2)\\geq 0.5\\implies y=1$).\n"
   ]
  },
  {
   "cell_type": "markdown",
   "metadata": {},
   "source": [
    "### Question 2.1 [10 Marks]\n",
    "Show that there is no possible set of weights $[w_1,w_2,w_3]$ that can solve this."
   ]
  },
  {
   "cell_type": "markdown",
   "metadata": {},
   "source": [
    "### Question 2.2 [10 Marks]\n",
    "Now consider an extra basis functions $x_1^2, x_1x_2, x_2^2$, so that we have \n",
    "$$\n",
    "\\begin{align}\n",
    "y([x_1,x_2]) &= \\sigma\\left([w_1,w_2,w_3,w_4,w_5,w_6]^T[x_1,x_2,x_1^2,x_2^2,x_1x_2,1]\\right)\\\\\n",
    "        &= \\sigma\\left(w_1x_1+w_2x_2+w_3x_1^2+w_4x_2^2+w_5x_1x_2+w_6\\right).\n",
    "\\end{align}\n",
    "$$\n",
    "\n",
    "Show that there is a possible set of weights $[w_1,w_2,w_3,w_4,w_5,w_6]$ that can solve the XOR problem (i.e., give an example of weights which solves the XOR problem)."
   ]
  },
  {
   "cell_type": "markdown",
   "metadata": {},
   "source": [
    "### Question 2.3 [10 Marks]\n",
    "Show that without using extra basis functions, we can solve using a 1 Hidden Layer MLP with 2 nodes in the hidden layer. In other words\n",
    "$$\n",
    "\\begin{align}\n",
    "        y([x_1,x_2]) &= \\sigma\\left([w_7,w_8,w_9]^T\\left[\\sigma\\left([w_1,w_2,w_3]^T[x_1,x_2,1]\\right),\\sigma\\left([w_4,w_5,w_6]^T[x_1,x_2,1]\\right),1\\right]\\right)\\\\\n",
    "        &= \\sigma\\left(w_7\\sigma(w_1x_1+w_2x_2+w_3)+w_8\\sigma(w_4x_1+w_5x_2+w_6)+w_9\\right)\n",
    "\\end{align}\n",
    "$$\n",
    "\n",
    "To test your values, put them into the vector $w$ given and use run the plot.\n",
    "\n",
    "That is **together** solve the for the weights in a Markdown block **and** then input your weights into the code block below that."
   ]
  },
  {
   "cell_type": "code",
   "execution_count": null,
   "metadata": {},
   "outputs": [],
   "source": [
    "def set_weights():\n",
    "    w = [1,1,1,1,1,1,1,1,1] # TODO: Change this\n",
    "    return w"
   ]
  },
  {
   "cell_type": "code",
   "execution_count": null,
   "metadata": {},
   "outputs": [],
   "source": [
    "## Supporting Cell Do NOT change\n",
    "\n",
    "cur_w = set_weights()\n",
    "\n",
    "assert len(cur_w) == 9\n",
    "sigmoid = lambda z : 1/(1+np.exp(-z))\n",
    "model = lambda x1, x2 : sigmoid(w[6]*sigmoid(cur_w[0]*x1+cur_w[1]*x2+cur_w[2]) + cur_w[7]*sigmoid(cur_w[3]*x1+cur_w[4]*x2+cur_w[5]) + cur_w[8])\n",
    "y, x = np.mgrid[-6:6:200j, -6:6:200j]\n",
    "im = plt.imshow(model(x, y), origin='lower', extent=[-6,6,-6,6], cmap='bwr_r', alpha=0.5)\n",
    "plt.scatter(-1,1, c='r')\n",
    "plt.scatter(1,-1, c='r')\n",
    "plt.scatter(-1,-1, c='b')\n",
    "plt.scatter(1,1, c='b')\n",
    "plt.colorbar(im)\n",
    "plt.show()"
   ]
  },
  {
   "cell_type": "markdown",
   "metadata": {},
   "source": [
    "## Better Representations"
   ]
  },
  {
   "cell_type": "markdown",
   "metadata": {},
   "source": [
    "### Question 2.4 [15 Marks]\n",
    "Although the weights you get above solve th XOR problem for those 4 points (hopefully!) they don't solve the problem for the general XOR problem, which is to predict 0 for Quadrants 2 and 4 of the 2D plane, and predict 1 for Quadrants 1 and 3 of the XOR plane. \n",
    "\n",
    "Use [this online tool](https://playground.tensorflow.org/) to find weights for a 1 layer HLP with the least number of neurons in the hidden layer and no extra features that solves the problem (it has the general XOR problem as one of the toy problems). Make sure to change the Activation to Sigmoid and the Data to Exclusive or, and keep everything else as default.  Here we will use the term solve if it gets <=0.05 test loss.\n",
    "\n",
    "Rather than using individual functions like the previous plotting code, when implementing Neural Networks we usually use matrix multiplication and elementwise non-linear operations. See if you can recreate the network you made on the online tool in the code below and get the same plot."
   ]
  },
  {
   "cell_type": "code",
   "execution_count": null,
   "metadata": {},
   "outputs": [],
   "source": [
    "num_inputs = 2\n",
    "num_hidden = 8 # TODO: improve on this, and then fill in the next three properly\n",
    "weights_1 = np.array([[0.9,-1.4],[-1.9,-0.72],[-0.61,-1.9],[0.43,0.85],[-1.9,0.99],[1.6,-1.4],[-0.61,-0.54],[0.97,0.77]]) # Shape is (num_hidden, num_inputs)\n",
    "biases_1 = np.array([2.8,3.3,2.7,-2.1,2.9,1.6,-0.3,2.8])\n",
    "weights_2 = np.array([4.4,-3.8,-2.8,1.7,6.0,2.2,0.86,-5.7])\n",
    "biases_2 = -0.3 # They haven't showed the bias value, but its pretty easy to tune to make the plot look like theirs\n",
    "\n",
    "assert weights_1.shape == (num_hidden, num_inputs), weights_1.shape\n",
    "assert weights_2.shape == (num_hidden,), weights_2.shape\n",
    "assert biases_1.shape == (num_hidden,), biases_1.shape"
   ]
  },
  {
   "cell_type": "code",
   "execution_count": null,
   "metadata": {},
   "outputs": [],
   "source": [
    "## Supporting Cell Do NOT change\n",
    "\n",
    "model = lambda x: sigmoid(sigmoid(x@weights_1.T + biases_1) @ weights_2 + biases_2) # x should have shape (2,) or (n, 2)\n",
    "\n",
    "y, x = np.mgrid[-6:6:200j, -6:6:200j]\n",
    "values = model(np.stack([x, y], axis=-1).reshape(200*200,2)).reshape(200,200)\n",
    "im = plt.imshow(values, origin='lower', extent=[-6,6,-6,6], cmap='bwr_r', alpha=0.5)\n",
    "plt.scatter(-1,1, c='r')\n",
    "plt.scatter(1,-1, c='r')\n",
    "plt.scatter(-1,-1, c='b')\n",
    "plt.scatter(1,1, c='b')\n",
    "plt.colorbar(im)\n",
    "plt.show()"
   ]
  },
  {
   "cell_type": "markdown",
   "metadata": {},
   "source": [
    "### Question 2.5 [5 Marks]\n",
    "Try the same with the spiral dataset in the online tool (and using the Sigmoid activation). You may use more layers and more features (basis functions) as neccessary, and put the ratio of training data up to 90%. Take a screenshot and post your result below (don't need to spend too long playing around)."
   ]
  },
  {
   "cell_type": "code",
   "execution_count": null,
   "metadata": {},
   "outputs": [],
   "source": [
    "### Solution\n",
    "\n",
    "from IPython.display import Image\n",
    "\n",
    "image_path = None  ### TODO\n",
    "\n",
    "assert(image_path in SUBMISSION_LIST)\n",
    "\n",
    "# Do not remove this exception\n",
    "try:\n",
    "    Image(filename=image_path)\n",
    "except FileNotFoundError:\n",
    "    pass    "
   ]
  },
  {
   "cell_type": "markdown",
   "metadata": {},
   "source": [
    "# Code to Package Your Assignment\n",
    "Run the following code block to upload to gradescope:"
   ]
  },
  {
   "cell_type": "code",
   "execution_count": null,
   "metadata": {
    "tags": [
     "magic"
    ]
   },
   "outputs": [],
   "source": [
    "import zipfile\n",
    "\n",
    "with zipfile.ZipFile(f'{U_ID}_assignment_1.zip', 'w') as f:\n",
    "    for s in SUBMISSION_LIST:\n",
    "        f.write(s)"
   ]
  }
 ],
 "metadata": {
  "celltoolbar": "Tags",
  "kernelspec": {
   "display_name": "Python 3",
   "language": "python",
   "name": "python3"
  },
  "language_info": {
   "codemirror_mode": {
    "name": "ipython",
    "version": 3
   },
   "file_extension": ".py",
   "mimetype": "text/x-python",
   "name": "python",
   "nbconvert_exporter": "python",
   "pygments_lexer": "ipython3",
   "version": "3.7.4"
  }
 },
 "nbformat": 4,
 "nbformat_minor": 4
}
